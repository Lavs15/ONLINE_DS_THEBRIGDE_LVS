{
 "cells": [
  {
   "cell_type": "markdown",
   "id": "c7ecf587-1259-41c2-9fb6-db8ccb3b0eb7",
   "metadata": {},
   "source": [
    "## Markdown Práctica Obligatoria"
   ]
  },
  {
   "cell_type": "markdown",
   "id": "f75dba62-4f87-46a4-ac9b-140cbfd5f1ff",
   "metadata": {},
   "source": [
    "### Ejercicio 1"
   ]
  },
  {
   "cell_type": "markdown",
   "id": "2024c23e-fe1e-445d-a859-72bc96e48ba6",
   "metadata": {},
   "source": [
    "Lo más importante  \n",
    "\n",
    "* Matemáticas\n",
    "* Python\n",
    "* SQL\n",
    "\n",
    "![Imagen de Python](./img/python.png)  \n",
    "Otro tema importante es el de *Business Intelligence*  \n",
    "Si tienes dudas puedes escribirme a: [alberto.romero@thebridgeschool.es](mailto:alberto.romero@thebridgeschool.es)  \n",
    "Y en esta página se puede aprender mucho de machine learning: [página con ML](https://www.kaggle.com/)"
   ]
  },
  {
   "cell_type": "markdown",
   "id": "f1b75ea3-f18f-4e79-b296-5472b4bb160d",
   "metadata": {},
   "source": [
    "### Ejercicio 2"
   ]
  },
  {
   "cell_type": "markdown",
   "id": "13ffdfce-de0f-426d-ac5f-961d08d5132f",
   "metadata": {},
   "source": [
    "| **Ramp up**  | **Data Analysis**  |  **Machine Learning**  |  **Data & Business** |\n",
    "| --- | --- | --- | --- |\n",
    "|Python  |  EDA  |  Supervised  |  Productivización|\n",
    "|Estadística  |  R  |  Non Supervised  |  Storytelling|\n",
    "|SQL  |  Feat. Eng.  |  Deep learning  | API |"
   ]
  },
  {
   "cell_type": "markdown",
   "id": "c2b5b7df-5262-4283-9e40-21cadb29f3e6",
   "metadata": {},
   "source": [
    "$$\n",
    "\\sqrt {3x-1} + (1+x)^2\n",
    "$$"
   ]
  },
  {
   "cell_type": "markdown",
   "id": "133bbeba-98a4-4196-9066-b3dbd6eea48d",
   "metadata": {},
   "source": []
  }
 ],
 "metadata": {
  "kernelspec": {
   "display_name": "Python 3 (ipykernel)",
   "language": "python",
   "name": "python3"
  },
  "language_info": {
   "codemirror_mode": {
    "name": "ipython",
    "version": 3
   },
   "file_extension": ".py",
   "mimetype": "text/x-python",
   "name": "python",
   "nbconvert_exporter": "python",
   "pygments_lexer": "ipython3",
   "version": "3.12.8"
  }
 },
 "nbformat": 4,
 "nbformat_minor": 5
}
